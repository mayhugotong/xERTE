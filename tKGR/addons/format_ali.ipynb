{
 "metadata": {
  "language_info": {
   "codemirror_mode": {
    "name": "ipython",
    "version": 3
   },
   "file_extension": ".py",
   "mimetype": "text/x-python",
   "name": "python",
   "nbconvert_exporter": "python",
   "pygments_lexer": "ipython3",
   "version": "3.8.5"
  },
  "orig_nbformat": 2,
  "kernelspec": {
   "name": "python3",
   "display_name": "Python 3.8.5 64-bit",
   "metadata": {
    "interpreter": {
     "hash": "fffa52f1d8ef121a86a44a9c7b9704654ab6609c3cf447b67bdb9639eececf23"
    }
   }
  }
 },
 "nbformat": 4,
 "nbformat_minor": 2,
 "cells": [
  {
   "cell_type": "code",
   "execution_count": 2,
   "metadata": {},
   "outputs": [],
   "source": [
    "import os\n",
    "import sys\n",
    "import numpy as np\n",
    "import pandas as pd\n",
    "import csv\n",
    "import matplotlib\n",
    "import matplotlib.pyplot as plt\n",
    "from tqdm import tqdm"
   ]
  },
  {
   "cell_type": "code",
   "execution_count": 3,
   "metadata": {},
   "outputs": [
    {
     "output_type": "stream",
     "name": "stdout",
     "text": [
      "['tbl_goods.csv', 'tbl_logs.xls', 'tbl_orders.csv', 'tbl_users.csv', 'Tianchi_ Data Sets.html']\n"
     ]
    },
    {
     "output_type": "execute_result",
     "data": {
      "text/plain": [
       "   id  siteId  isTest  hasSync  isBackend  isBook  isCod  notAutoConfirm  \\\n",
       "0   3       1       0        1          0       0      0               0   \n",
       "1   4       1       0        1          0       0      0               0   \n",
       "2   5       1       0        1          0       0      0               0   \n",
       "3   6       1       0        1          0       0      3               0   \n",
       "4   7       1       0        1          0       0      1               0   \n",
       "\n",
       "   isPackage  packageId  ... isTogether isNotConfirm  tailPayTime  points  \\\n",
       "0          0          0  ...          0            1            0     0.0   \n",
       "1          0          0  ...          0            0            0     0.0   \n",
       "2          0          0  ...          0            0            0     0.0   \n",
       "3          0          0  ...          0            0            0     0.0   \n",
       "4          0          0  ...          0            0            0     0.0   \n",
       "\n",
       "             modified  channelId  isProduceDaily  couponCode  couponCodeValue  \\\n",
       "0  25/9/2019 21:59:26        0.0               0         NaN                0   \n",
       "1  25/9/2019 21:59:26        0.0               0         NaN                0   \n",
       "2  25/9/2019 21:59:26        0.0               0         NaN                0   \n",
       "3  25/9/2019 21:59:26        0.0               0         NaN                0   \n",
       "4  25/9/2019 21:59:26        0.0               0         NaN                0   \n",
       "\n",
       "       ckCode  \n",
       "0  19206703.0  \n",
       "1  20205149.0  \n",
       "2         NaN  \n",
       "3         NaN  \n",
       "4         NaN  \n",
       "\n",
       "[5 rows x 112 columns]"
      ],
      "text/html": "<div>\n<style scoped>\n    .dataframe tbody tr th:only-of-type {\n        vertical-align: middle;\n    }\n\n    .dataframe tbody tr th {\n        vertical-align: top;\n    }\n\n    .dataframe thead th {\n        text-align: right;\n    }\n</style>\n<table border=\"1\" class=\"dataframe\">\n  <thead>\n    <tr style=\"text-align: right;\">\n      <th></th>\n      <th>id</th>\n      <th>siteId</th>\n      <th>isTest</th>\n      <th>hasSync</th>\n      <th>isBackend</th>\n      <th>isBook</th>\n      <th>isCod</th>\n      <th>notAutoConfirm</th>\n      <th>isPackage</th>\n      <th>packageId</th>\n      <th>...</th>\n      <th>isTogether</th>\n      <th>isNotConfirm</th>\n      <th>tailPayTime</th>\n      <th>points</th>\n      <th>modified</th>\n      <th>channelId</th>\n      <th>isProduceDaily</th>\n      <th>couponCode</th>\n      <th>couponCodeValue</th>\n      <th>ckCode</th>\n    </tr>\n  </thead>\n  <tbody>\n    <tr>\n      <th>0</th>\n      <td>3</td>\n      <td>1</td>\n      <td>0</td>\n      <td>1</td>\n      <td>0</td>\n      <td>0</td>\n      <td>0</td>\n      <td>0</td>\n      <td>0</td>\n      <td>0</td>\n      <td>...</td>\n      <td>0</td>\n      <td>1</td>\n      <td>0</td>\n      <td>0.0</td>\n      <td>25/9/2019 21:59:26</td>\n      <td>0.0</td>\n      <td>0</td>\n      <td>NaN</td>\n      <td>0</td>\n      <td>19206703.0</td>\n    </tr>\n    <tr>\n      <th>1</th>\n      <td>4</td>\n      <td>1</td>\n      <td>0</td>\n      <td>1</td>\n      <td>0</td>\n      <td>0</td>\n      <td>0</td>\n      <td>0</td>\n      <td>0</td>\n      <td>0</td>\n      <td>...</td>\n      <td>0</td>\n      <td>0</td>\n      <td>0</td>\n      <td>0.0</td>\n      <td>25/9/2019 21:59:26</td>\n      <td>0.0</td>\n      <td>0</td>\n      <td>NaN</td>\n      <td>0</td>\n      <td>20205149.0</td>\n    </tr>\n    <tr>\n      <th>2</th>\n      <td>5</td>\n      <td>1</td>\n      <td>0</td>\n      <td>1</td>\n      <td>0</td>\n      <td>0</td>\n      <td>0</td>\n      <td>0</td>\n      <td>0</td>\n      <td>0</td>\n      <td>...</td>\n      <td>0</td>\n      <td>0</td>\n      <td>0</td>\n      <td>0.0</td>\n      <td>25/9/2019 21:59:26</td>\n      <td>0.0</td>\n      <td>0</td>\n      <td>NaN</td>\n      <td>0</td>\n      <td>NaN</td>\n    </tr>\n    <tr>\n      <th>3</th>\n      <td>6</td>\n      <td>1</td>\n      <td>0</td>\n      <td>1</td>\n      <td>0</td>\n      <td>0</td>\n      <td>3</td>\n      <td>0</td>\n      <td>0</td>\n      <td>0</td>\n      <td>...</td>\n      <td>0</td>\n      <td>0</td>\n      <td>0</td>\n      <td>0.0</td>\n      <td>25/9/2019 21:59:26</td>\n      <td>0.0</td>\n      <td>0</td>\n      <td>NaN</td>\n      <td>0</td>\n      <td>NaN</td>\n    </tr>\n    <tr>\n      <th>4</th>\n      <td>7</td>\n      <td>1</td>\n      <td>0</td>\n      <td>1</td>\n      <td>0</td>\n      <td>0</td>\n      <td>1</td>\n      <td>0</td>\n      <td>0</td>\n      <td>0</td>\n      <td>...</td>\n      <td>0</td>\n      <td>0</td>\n      <td>0</td>\n      <td>0.0</td>\n      <td>25/9/2019 21:59:26</td>\n      <td>0.0</td>\n      <td>0</td>\n      <td>NaN</td>\n      <td>0</td>\n      <td>NaN</td>\n    </tr>\n  </tbody>\n</table>\n<p>5 rows × 112 columns</p>\n</div>"
     },
     "metadata": {},
     "execution_count": 3
    }
   ],
   "source": [
    "data_dir = \"/mnt/c/Users/ruotong/Home/xERTE/tKGR/data/Body_E-commerce_user_data\"\n",
    "print(os.listdir(data_dir))\n",
    "orders = pd.read_csv(os.path.join(data_dir, \"tbl_orders.csv\"), sep=\",\",header=0)\n",
    "goods = pd.read_csv(os.path.join(data_dir, \"tbl_goods.csv\"), sep=\",\",header=0)\n",
    "users = pd.read_csv(os.path.join(data_dir, \"tbl_users.csv\"), sep=\",\",header=0)\n",
    "logs = pd.read_csv(os.path.join(data_dir, \"tbl_logs.xls\"), sep=\",\",header=0)\n",
    "# df = df.reindex(columns=['user','rating','movie','timestamp'])\n",
    "orders.head()"
   ]
  },
  {
   "cell_type": "code",
   "execution_count": 4,
   "metadata": {},
   "outputs": [
    {
     "output_type": "execute_result",
     "data": {
      "text/plain": [
       "        id  siteId  isTest  hasRead  supportOneDayLimit  orderId  \\\n",
       "0    73490       1       0        0                   0  6953353   \n",
       "1    81725       1       0        0                   0  6953829   \n",
       "2    82100       1       0        0                   0  3531493   \n",
       "3  3597241       1       0        0                   0  3531499   \n",
       "4  3597243       1       0        0                   0  3531501   \n",
       "\n",
       "                 cOrderSn  isBook  cPaymentStatus    cPayTime  ...  \\\n",
       "0  amazon_787381907069465       0             201  1409500990  ...   \n",
       "1  suning_809464647036116       0             201  1409500980  ...   \n",
       "2    jd_14092413252823687       0             201  1409500998  ...   \n",
       "3    jd_14091818005983607       0             206  1409501050  ...   \n",
       "4    jd_14091317283357943       0             200           0  ...   \n",
       "\n",
       "  pdOrderStatus  omsOrderSn couponCode couponCodeValue  storeId  storeType  \\\n",
       "0             0         NaN        NaN               0        0          0   \n",
       "1             0         NaN        NaN               0        0          0   \n",
       "2             0         NaN        NaN               0        0          0   \n",
       "3             0         NaN        NaN               0        0          0   \n",
       "4             0         NaN        NaN               0        0          0   \n",
       "\n",
       "   stockType  o2oType  brokerageType  ogColor  \n",
       "0         WA       50              B      ��ɫ  \n",
       "1         WA       50              B      ��ɫ  \n",
       "2         WA        0            NaN    ���Ľ�  \n",
       "3         WA        0            NaN      ��ɫ  \n",
       "4         WA        0            NaN    ���Ľ�  \n",
       "\n",
       "[5 rows x 97 columns]"
      ],
      "text/html": "<div>\n<style scoped>\n    .dataframe tbody tr th:only-of-type {\n        vertical-align: middle;\n    }\n\n    .dataframe tbody tr th {\n        vertical-align: top;\n    }\n\n    .dataframe thead th {\n        text-align: right;\n    }\n</style>\n<table border=\"1\" class=\"dataframe\">\n  <thead>\n    <tr style=\"text-align: right;\">\n      <th></th>\n      <th>id</th>\n      <th>siteId</th>\n      <th>isTest</th>\n      <th>hasRead</th>\n      <th>supportOneDayLimit</th>\n      <th>orderId</th>\n      <th>cOrderSn</th>\n      <th>isBook</th>\n      <th>cPaymentStatus</th>\n      <th>cPayTime</th>\n      <th>...</th>\n      <th>pdOrderStatus</th>\n      <th>omsOrderSn</th>\n      <th>couponCode</th>\n      <th>couponCodeValue</th>\n      <th>storeId</th>\n      <th>storeType</th>\n      <th>stockType</th>\n      <th>o2oType</th>\n      <th>brokerageType</th>\n      <th>ogColor</th>\n    </tr>\n  </thead>\n  <tbody>\n    <tr>\n      <th>0</th>\n      <td>73490</td>\n      <td>1</td>\n      <td>0</td>\n      <td>0</td>\n      <td>0</td>\n      <td>6953353</td>\n      <td>amazon_787381907069465</td>\n      <td>0</td>\n      <td>201</td>\n      <td>1409500990</td>\n      <td>...</td>\n      <td>0</td>\n      <td>NaN</td>\n      <td>NaN</td>\n      <td>0</td>\n      <td>0</td>\n      <td>0</td>\n      <td>WA</td>\n      <td>50</td>\n      <td>B</td>\n      <td>��ɫ</td>\n    </tr>\n    <tr>\n      <th>1</th>\n      <td>81725</td>\n      <td>1</td>\n      <td>0</td>\n      <td>0</td>\n      <td>0</td>\n      <td>6953829</td>\n      <td>suning_809464647036116</td>\n      <td>0</td>\n      <td>201</td>\n      <td>1409500980</td>\n      <td>...</td>\n      <td>0</td>\n      <td>NaN</td>\n      <td>NaN</td>\n      <td>0</td>\n      <td>0</td>\n      <td>0</td>\n      <td>WA</td>\n      <td>50</td>\n      <td>B</td>\n      <td>��ɫ</td>\n    </tr>\n    <tr>\n      <th>2</th>\n      <td>82100</td>\n      <td>1</td>\n      <td>0</td>\n      <td>0</td>\n      <td>0</td>\n      <td>3531493</td>\n      <td>jd_14092413252823687</td>\n      <td>0</td>\n      <td>201</td>\n      <td>1409500998</td>\n      <td>...</td>\n      <td>0</td>\n      <td>NaN</td>\n      <td>NaN</td>\n      <td>0</td>\n      <td>0</td>\n      <td>0</td>\n      <td>WA</td>\n      <td>0</td>\n      <td>NaN</td>\n      <td>���Ľ�</td>\n    </tr>\n    <tr>\n      <th>3</th>\n      <td>3597241</td>\n      <td>1</td>\n      <td>0</td>\n      <td>0</td>\n      <td>0</td>\n      <td>3531499</td>\n      <td>jd_14091818005983607</td>\n      <td>0</td>\n      <td>206</td>\n      <td>1409501050</td>\n      <td>...</td>\n      <td>0</td>\n      <td>NaN</td>\n      <td>NaN</td>\n      <td>0</td>\n      <td>0</td>\n      <td>0</td>\n      <td>WA</td>\n      <td>0</td>\n      <td>NaN</td>\n      <td>��ɫ</td>\n    </tr>\n    <tr>\n      <th>4</th>\n      <td>3597243</td>\n      <td>1</td>\n      <td>0</td>\n      <td>0</td>\n      <td>0</td>\n      <td>3531501</td>\n      <td>jd_14091317283357943</td>\n      <td>0</td>\n      <td>200</td>\n      <td>0</td>\n      <td>...</td>\n      <td>0</td>\n      <td>NaN</td>\n      <td>NaN</td>\n      <td>0</td>\n      <td>0</td>\n      <td>0</td>\n      <td>WA</td>\n      <td>0</td>\n      <td>NaN</td>\n      <td>���Ľ�</td>\n    </tr>\n  </tbody>\n</table>\n<p>5 rows × 97 columns</p>\n</div>"
     },
     "metadata": {},
     "execution_count": 4
    }
   ],
   "source": [
    "goods.head()"
   ]
  },
  {
   "cell_type": "code",
   "execution_count": 5,
   "metadata": {},
   "outputs": [
    {
     "output_type": "execute_result",
     "data": {
      "text/plain": [
       "   id  siteId avatarImageFileId              email username  \\\n",
       "0   1       1               NaN  wcfr817e@yeah.net      ��ӽ   \n",
       "1   2       1               NaN  xuwcbev9y@ask.com     ����   \n",
       "2   3       1               NaN    mgaqfew@126.com      Ϳ��   \n",
       "3   4       1               NaN   b7zthcdg@163.net     ����   \n",
       "4   5       1               NaN    ezrvy0p@163.net     ����   \n",
       "\n",
       "                           password  salt  registerTime  lastLoginTime  \\\n",
       "0  7f930f90eb6604e837db06908cc95149  f668    1217994492   1.431054e+09   \n",
       "1  7f930f90eb6604e837db06908cc95149  f668    1218317852   1.406562e+09   \n",
       "2  96802a851b4a7295fb09122b9aa79c18  f668    1218339475   1.406044e+09   \n",
       "3  96802a851b4a7295fb09122b9aa79c18  f668    1218350829   1.388045e+09   \n",
       "4  96802a851b4a7295fb09122b9aa79c18  f668    1218549491   1.388044e+09   \n",
       "\n",
       "      lastLoginIp  ...  isSmsVerify  smsVerifyCode  emailVerifyCode  \\\n",
       "0   106.83.54.165  ...          1.0         1064.0           4537.0   \n",
       "1  121.77.119.233  ...          0.0            NaN           8000.0   \n",
       "2  171.12.206.122  ...          0.0            NaN              NaN   \n",
       "3   61.235.143.92  ...          0.0            NaN              NaN   \n",
       "4   182.81.200.32  ...          0.0            NaN              NaN   \n",
       "\n",
       "   verifySendCoupon  canReceiveEmail            modified  channelId  grade_id  \\\n",
       "0               0.0              0.0  17/8/2019 21:34:50          0         0   \n",
       "1               0.0              0.0  17/8/2019 21:34:50          0         0   \n",
       "2               0.0              0.0  17/8/2019 21:34:50          0         0   \n",
       "3               0.0              0.0  17/8/2019 21:34:50          0         0   \n",
       "4               0.0              0.0  17/8/2019 21:34:50          0         0   \n",
       "\n",
       "   nick_name  is_blackList  \n",
       "0        NaN             0  \n",
       "1        NaN             0  \n",
       "2        NaN             0  \n",
       "3        NaN             0  \n",
       "4        NaN             0  \n",
       "\n",
       "[5 rows x 38 columns]"
      ],
      "text/html": "<div>\n<style scoped>\n    .dataframe tbody tr th:only-of-type {\n        vertical-align: middle;\n    }\n\n    .dataframe tbody tr th {\n        vertical-align: top;\n    }\n\n    .dataframe thead th {\n        text-align: right;\n    }\n</style>\n<table border=\"1\" class=\"dataframe\">\n  <thead>\n    <tr style=\"text-align: right;\">\n      <th></th>\n      <th>id</th>\n      <th>siteId</th>\n      <th>avatarImageFileId</th>\n      <th>email</th>\n      <th>username</th>\n      <th>password</th>\n      <th>salt</th>\n      <th>registerTime</th>\n      <th>lastLoginTime</th>\n      <th>lastLoginIp</th>\n      <th>...</th>\n      <th>isSmsVerify</th>\n      <th>smsVerifyCode</th>\n      <th>emailVerifyCode</th>\n      <th>verifySendCoupon</th>\n      <th>canReceiveEmail</th>\n      <th>modified</th>\n      <th>channelId</th>\n      <th>grade_id</th>\n      <th>nick_name</th>\n      <th>is_blackList</th>\n    </tr>\n  </thead>\n  <tbody>\n    <tr>\n      <th>0</th>\n      <td>1</td>\n      <td>1</td>\n      <td>NaN</td>\n      <td>wcfr817e@yeah.net</td>\n      <td>��ӽ</td>\n      <td>7f930f90eb6604e837db06908cc95149</td>\n      <td>f668</td>\n      <td>1217994492</td>\n      <td>1.431054e+09</td>\n      <td>106.83.54.165</td>\n      <td>...</td>\n      <td>1.0</td>\n      <td>1064.0</td>\n      <td>4537.0</td>\n      <td>0.0</td>\n      <td>0.0</td>\n      <td>17/8/2019 21:34:50</td>\n      <td>0</td>\n      <td>0</td>\n      <td>NaN</td>\n      <td>0</td>\n    </tr>\n    <tr>\n      <th>1</th>\n      <td>2</td>\n      <td>1</td>\n      <td>NaN</td>\n      <td>xuwcbev9y@ask.com</td>\n      <td>����</td>\n      <td>7f930f90eb6604e837db06908cc95149</td>\n      <td>f668</td>\n      <td>1218317852</td>\n      <td>1.406562e+09</td>\n      <td>121.77.119.233</td>\n      <td>...</td>\n      <td>0.0</td>\n      <td>NaN</td>\n      <td>8000.0</td>\n      <td>0.0</td>\n      <td>0.0</td>\n      <td>17/8/2019 21:34:50</td>\n      <td>0</td>\n      <td>0</td>\n      <td>NaN</td>\n      <td>0</td>\n    </tr>\n    <tr>\n      <th>2</th>\n      <td>3</td>\n      <td>1</td>\n      <td>NaN</td>\n      <td>mgaqfew@126.com</td>\n      <td>Ϳ��</td>\n      <td>96802a851b4a7295fb09122b9aa79c18</td>\n      <td>f668</td>\n      <td>1218339475</td>\n      <td>1.406044e+09</td>\n      <td>171.12.206.122</td>\n      <td>...</td>\n      <td>0.0</td>\n      <td>NaN</td>\n      <td>NaN</td>\n      <td>0.0</td>\n      <td>0.0</td>\n      <td>17/8/2019 21:34:50</td>\n      <td>0</td>\n      <td>0</td>\n      <td>NaN</td>\n      <td>0</td>\n    </tr>\n    <tr>\n      <th>3</th>\n      <td>4</td>\n      <td>1</td>\n      <td>NaN</td>\n      <td>b7zthcdg@163.net</td>\n      <td>����</td>\n      <td>96802a851b4a7295fb09122b9aa79c18</td>\n      <td>f668</td>\n      <td>1218350829</td>\n      <td>1.388045e+09</td>\n      <td>61.235.143.92</td>\n      <td>...</td>\n      <td>0.0</td>\n      <td>NaN</td>\n      <td>NaN</td>\n      <td>0.0</td>\n      <td>0.0</td>\n      <td>17/8/2019 21:34:50</td>\n      <td>0</td>\n      <td>0</td>\n      <td>NaN</td>\n      <td>0</td>\n    </tr>\n    <tr>\n      <th>4</th>\n      <td>5</td>\n      <td>1</td>\n      <td>NaN</td>\n      <td>ezrvy0p@163.net</td>\n      <td>����</td>\n      <td>96802a851b4a7295fb09122b9aa79c18</td>\n      <td>f668</td>\n      <td>1218549491</td>\n      <td>1.388044e+09</td>\n      <td>182.81.200.32</td>\n      <td>...</td>\n      <td>0.0</td>\n      <td>NaN</td>\n      <td>NaN</td>\n      <td>0.0</td>\n      <td>0.0</td>\n      <td>17/8/2019 21:34:50</td>\n      <td>0</td>\n      <td>0</td>\n      <td>NaN</td>\n      <td>0</td>\n    </tr>\n  </tbody>\n</table>\n<p>5 rows × 38 columns</p>\n</div>"
     },
     "metadata": {},
     "execution_count": 5
    }
   ],
   "source": [
    "users.head()"
   ]
  },
  {
   "cell_type": "code",
   "execution_count": 6,
   "metadata": {},
   "outputs": [
    {
     "output_type": "execute_result",
     "data": {
      "text/plain": [
       "   id                  log_id       remote_ip  \\\n",
       "0   1  20190813030355b18919aa  58.210.214.242   \n",
       "1   2  20190731083547b0e15caf   112.97.37.154   \n",
       "2   3  20190726181449212ab2f6  116.227.224.90   \n",
       "3   4  201907311335162e8c21bb    36.45.237.47   \n",
       "4   5  20190806052106c511adcb   183.38.98.186   \n",
       "\n",
       "                     site_global_ticket               site_global_session  \\\n",
       "0  d5bbefc1-b018-411e-a5c5-f4ae42040585  225B3CEC05A99F22DA910E9ACF16CABA   \n",
       "1  7d4d6c17-489d-472c-b84a-f637737f9368  0D5516FE42C46C9C6B414BA476DADB87   \n",
       "2  a17fcf55-2d85-4741-8a46-059c088fdaab  3D357774BD7C1F89A2069B45DEDD4963   \n",
       "3  20e2f652-2a3c-41ce-9ccb-cbb23dd9ab6e  46FB6054C731C9FFC761B76116C08538   \n",
       "4  f0817399-2890-44de-8eb0-62e4cb215ad7  0B0522645FBA9661F3DBBEF81D2060DD   \n",
       "\n",
       "   global_user_id                                        cookie_text  \\\n",
       "0             424  _jzqa:1.4307189778781279000.1443929492.1444556...   \n",
       "1             404  _jzqa:1.861329298237678300.1444567194.14445704...   \n",
       "2             746  UniqueName:4f87abed-35f5-f243-aa54-7b31aa598dc...   \n",
       "3             619  YZHD_SESSIONID:d633af7d8f59bb6b1d1f16d49475443...   \n",
       "4             854  JSESSIONID:0B0522645FBA9661F3DBBEF81D2060DD\\n_...   \n",
       "\n",
       "                                          user_agent  \\\n",
       "0  Mozilla/5.0 (Linux; Android 5.0; F103 Build/LR...   \n",
       "1  Mozilla/5.0 (Linux; Android 4.4.2; CHM-UL00 Bu...   \n",
       "2  Mozilla/5.0 (Windows NT 6.1; WOW64) AppleWebKi...   \n",
       "3  Mozilla/4.0 (compatible; MSIE 8.0; Windows NT ...   \n",
       "4  Mozilla/5.0 (iPhone; CPU iPhone OS 9_0_2 like ...   \n",
       "\n",
       "                                             ref_url  \\\n",
       "0  http://m.shop.com/mobile/toActivityDetail/2015...   \n",
       "1           http://m.shop.com/mobile/item/12233.html   \n",
       "2  http://www.shop.com/l/2723-0-0-0-0-0-0-0-0-43-...   \n",
       "3                                                NaN   \n",
       "4            http://m.shop.com/mobile/item/9577.html   \n",
       "\n",
       "                                             loc_url             log_time  \n",
       "0  http://m.eshop.com/mobile/coupon/getCoupons.ht...  2019-08-13 03:03:55  \n",
       "1  http://m.eshop.com/mobile/item/productSpecific...  2019-07-31 08:35:47  \n",
       "2  http://www.eshop.com/product/5552.html?ebi=ref...  2019-07-26 18:14:49  \n",
       "3                              http://www.eshop.com/  2019-07-31 13:35:16  \n",
       "4  http://m.eshop.com/mobile/item/productComment/...  2019-08-06 05:21:06  "
      ],
      "text/html": "<div>\n<style scoped>\n    .dataframe tbody tr th:only-of-type {\n        vertical-align: middle;\n    }\n\n    .dataframe tbody tr th {\n        vertical-align: top;\n    }\n\n    .dataframe thead th {\n        text-align: right;\n    }\n</style>\n<table border=\"1\" class=\"dataframe\">\n  <thead>\n    <tr style=\"text-align: right;\">\n      <th></th>\n      <th>id</th>\n      <th>log_id</th>\n      <th>remote_ip</th>\n      <th>site_global_ticket</th>\n      <th>site_global_session</th>\n      <th>global_user_id</th>\n      <th>cookie_text</th>\n      <th>user_agent</th>\n      <th>ref_url</th>\n      <th>loc_url</th>\n      <th>log_time</th>\n    </tr>\n  </thead>\n  <tbody>\n    <tr>\n      <th>0</th>\n      <td>1</td>\n      <td>20190813030355b18919aa</td>\n      <td>58.210.214.242</td>\n      <td>d5bbefc1-b018-411e-a5c5-f4ae42040585</td>\n      <td>225B3CEC05A99F22DA910E9ACF16CABA</td>\n      <td>424</td>\n      <td>_jzqa:1.4307189778781279000.1443929492.1444556...</td>\n      <td>Mozilla/5.0 (Linux; Android 5.0; F103 Build/LR...</td>\n      <td>http://m.shop.com/mobile/toActivityDetail/2015...</td>\n      <td>http://m.eshop.com/mobile/coupon/getCoupons.ht...</td>\n      <td>2019-08-13 03:03:55</td>\n    </tr>\n    <tr>\n      <th>1</th>\n      <td>2</td>\n      <td>20190731083547b0e15caf</td>\n      <td>112.97.37.154</td>\n      <td>7d4d6c17-489d-472c-b84a-f637737f9368</td>\n      <td>0D5516FE42C46C9C6B414BA476DADB87</td>\n      <td>404</td>\n      <td>_jzqa:1.861329298237678300.1444567194.14445704...</td>\n      <td>Mozilla/5.0 (Linux; Android 4.4.2; CHM-UL00 Bu...</td>\n      <td>http://m.shop.com/mobile/item/12233.html</td>\n      <td>http://m.eshop.com/mobile/item/productSpecific...</td>\n      <td>2019-07-31 08:35:47</td>\n    </tr>\n    <tr>\n      <th>2</th>\n      <td>3</td>\n      <td>20190726181449212ab2f6</td>\n      <td>116.227.224.90</td>\n      <td>a17fcf55-2d85-4741-8a46-059c088fdaab</td>\n      <td>3D357774BD7C1F89A2069B45DEDD4963</td>\n      <td>746</td>\n      <td>UniqueName:4f87abed-35f5-f243-aa54-7b31aa598dc...</td>\n      <td>Mozilla/5.0 (Windows NT 6.1; WOW64) AppleWebKi...</td>\n      <td>http://www.shop.com/l/2723-0-0-0-0-0-0-0-0-43-...</td>\n      <td>http://www.eshop.com/product/5552.html?ebi=ref...</td>\n      <td>2019-07-26 18:14:49</td>\n    </tr>\n    <tr>\n      <th>3</th>\n      <td>4</td>\n      <td>201907311335162e8c21bb</td>\n      <td>36.45.237.47</td>\n      <td>20e2f652-2a3c-41ce-9ccb-cbb23dd9ab6e</td>\n      <td>46FB6054C731C9FFC761B76116C08538</td>\n      <td>619</td>\n      <td>YZHD_SESSIONID:d633af7d8f59bb6b1d1f16d49475443...</td>\n      <td>Mozilla/4.0 (compatible; MSIE 8.0; Windows NT ...</td>\n      <td>NaN</td>\n      <td>http://www.eshop.com/</td>\n      <td>2019-07-31 13:35:16</td>\n    </tr>\n    <tr>\n      <th>4</th>\n      <td>5</td>\n      <td>20190806052106c511adcb</td>\n      <td>183.38.98.186</td>\n      <td>f0817399-2890-44de-8eb0-62e4cb215ad7</td>\n      <td>0B0522645FBA9661F3DBBEF81D2060DD</td>\n      <td>854</td>\n      <td>JSESSIONID:0B0522645FBA9661F3DBBEF81D2060DD\\n_...</td>\n      <td>Mozilla/5.0 (iPhone; CPU iPhone OS 9_0_2 like ...</td>\n      <td>http://m.shop.com/mobile/item/9577.html</td>\n      <td>http://m.eshop.com/mobile/item/productComment/...</td>\n      <td>2019-08-06 05:21:06</td>\n    </tr>\n  </tbody>\n</table>\n</div>"
     },
     "metadata": {},
     "execution_count": 6
    }
   ],
   "source": [
    "logs.head()"
   ]
  }
 ]
}