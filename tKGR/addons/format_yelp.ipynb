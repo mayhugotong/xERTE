{
 "metadata": {
  "language_info": {
   "codemirror_mode": {
    "name": "ipython",
    "version": 3
   },
   "file_extension": ".py",
   "mimetype": "text/x-python",
   "name": "python",
   "nbconvert_exporter": "python",
   "pygments_lexer": "ipython3",
   "version": "3.8.5"
  },
  "orig_nbformat": 2,
  "kernelspec": {
   "name": "python3",
   "display_name": "Python 3.8.5 64-bit",
   "metadata": {
    "interpreter": {
     "hash": "fffa52f1d8ef121a86a44a9c7b9704654ab6609c3cf447b67bdb9639eececf23"
    }
   }
  }
 },
 "nbformat": 4,
 "nbformat_minor": 2,
 "cells": [
  {
   "cell_type": "code",
   "execution_count": 10,
   "metadata": {},
   "outputs": [],
   "source": [
    "import os\n",
    "import sys\n",
    "import numpy as np\n",
    "import pandas as pd\n",
    "import csv\n",
    "import matplotlib\n",
    "import matplotlib.pyplot as plt\n",
    "from tqdm import tqdm"
   ]
  },
  {
   "cell_type": "code",
   "execution_count": 27,
   "metadata": {},
   "outputs": [
    {
     "output_type": "stream",
     "name": "stdout",
     "text": [
      "['abbr_yelp_academic_dataset_review.csv', 'Dataset_User_Agreement.pdf', 'yelp_academic_dataset_business.csv', 'yelp_academic_dataset_business.json', 'yelp_academic_dataset_checkin.csv', 'yelp_academic_dataset_review.csv', 'yelp_academic_dataset_tip.csv', 'yelp_academic_dataset_user.csv']\n"
     ]
    }
   ],
   "source": [
    "data_dir = \"/mnt/c/Users/ruotong/Home/xERTE/tKGR/data/yelp_dataset-2\"\n",
    "print(os.listdir(data_dir))"
   ]
  },
  {
   "cell_type": "code",
   "execution_count": 5,
   "metadata": {},
   "outputs": [
    {
     "output_type": "stream",
     "name": "stdout",
     "text": [
      "['Dataset_User_Agreement.pdf', 'yelp_academic_dataset_business.csv', 'yelp_academic_dataset_business.json', 'yelp_academic_dataset_checkin.csv', 'yelp_academic_dataset_review.csv', 'yelp_academic_dataset_tip.csv', 'yelp_academic_dataset_user.csv']\n",
      "87it [05:37,  3.88s/it]\n"
     ]
    }
   ],
   "source": [
    "chunksize = 10 ** 5\n",
    "# df_demo= pd.read_csv(os.path.join(data_dir, \"yelp_academic_dataset_review.csv\"), chunksize=10)\n",
    "\n",
    "df_list = list()\n",
    "with pd.read_csv(os.path.join(data_dir, \"yelp_academic_dataset_review.csv\"), chunksize=chunksize, usecols=['business_id','stars','date','user_id']) as reader:\n",
    "    for chunk in tqdm(reader):\n",
    "        df_list.append(chunk)\n",
    "\n",
    "# df = pd.read_csv(os.path.join(data_dir, \"yelp_academic_dataset_review.csv\"), sep=\"\\t\",header=1)\n",
    "# df = df.reindex(columns=['user','rating','movie','timestamp'])\n",
    "review = pd.concat(df_list)\n",
    "review.to_csv(os.path.join(data_dir, \"abbr_yelp_academic_dataset_review.csv\"), header=None, sep='\\t', index=False)"
   ]
  },
  {
   "cell_type": "code",
   "execution_count": 6,
   "metadata": {},
   "outputs": [
    {
     "output_type": "execute_result",
     "data": {
      "text/plain": [
       "              business_id  stars                 date                 user_id\n",
       "0  buF9druCkbuXLX526sGELQ    4.0  2014-10-11 03:34:02  ak0TdVmGKo4pwqdJSTLwWw\n",
       "1  RA4V8pr014UyUbDvI-LW2A    4.0  2015-07-03 20:38:25  YoVfDbnISlW0f7abNQACIg\n",
       "2  _sS2LBIGNT5NQb6PD1Vtjw    5.0  2013-05-28 20:38:06  eC5evKn1TWDyHCyQAwguUw\n",
       "3  0AzLzHfOJgL7ROwhdww2ew    2.0  2010-01-08 02:29:15  SFQ1jcnGguO0LYWnbbftAA\n",
       "4  8zehGz9jnxPqXtOc7KaJxA    4.0  2011-07-28 18:05:01  0kA0PAJ8QFMeveQWHFqz2A"
      ],
      "text/html": "<div>\n<style scoped>\n    .dataframe tbody tr th:only-of-type {\n        vertical-align: middle;\n    }\n\n    .dataframe tbody tr th {\n        vertical-align: top;\n    }\n\n    .dataframe thead th {\n        text-align: right;\n    }\n</style>\n<table border=\"1\" class=\"dataframe\">\n  <thead>\n    <tr style=\"text-align: right;\">\n      <th></th>\n      <th>business_id</th>\n      <th>stars</th>\n      <th>date</th>\n      <th>user_id</th>\n    </tr>\n  </thead>\n  <tbody>\n    <tr>\n      <th>0</th>\n      <td>buF9druCkbuXLX526sGELQ</td>\n      <td>4.0</td>\n      <td>2014-10-11 03:34:02</td>\n      <td>ak0TdVmGKo4pwqdJSTLwWw</td>\n    </tr>\n    <tr>\n      <th>1</th>\n      <td>RA4V8pr014UyUbDvI-LW2A</td>\n      <td>4.0</td>\n      <td>2015-07-03 20:38:25</td>\n      <td>YoVfDbnISlW0f7abNQACIg</td>\n    </tr>\n    <tr>\n      <th>2</th>\n      <td>_sS2LBIGNT5NQb6PD1Vtjw</td>\n      <td>5.0</td>\n      <td>2013-05-28 20:38:06</td>\n      <td>eC5evKn1TWDyHCyQAwguUw</td>\n    </tr>\n    <tr>\n      <th>3</th>\n      <td>0AzLzHfOJgL7ROwhdww2ew</td>\n      <td>2.0</td>\n      <td>2010-01-08 02:29:15</td>\n      <td>SFQ1jcnGguO0LYWnbbftAA</td>\n    </tr>\n    <tr>\n      <th>4</th>\n      <td>8zehGz9jnxPqXtOc7KaJxA</td>\n      <td>4.0</td>\n      <td>2011-07-28 18:05:01</td>\n      <td>0kA0PAJ8QFMeveQWHFqz2A</td>\n    </tr>\n  </tbody>\n</table>\n</div>"
     },
     "metadata": {},
     "execution_count": 6
    }
   ],
   "source": [
    "review.head()"
   ]
  },
  {
   "cell_type": "code",
   "execution_count": 16,
   "metadata": {
    "tags": []
   },
   "outputs": [
    {
     "output_type": "stream",
     "name": "stderr",
     "text": [
      "\n",
      "0it [00:00, ?it/s]         yelping_since  useful  compliment_photos  compliment_list  \\\n",
      "0  2005-03-14 20:26:35   15038                323              147   \n",
      "1  2007-08-10 19:01:51   21272                294               96   \n",
      "2  2007-02-07 15:47:53     188                  1                0   \n",
      "3  2009-02-09 16:14:29    7234                326               90   \n",
      "4  2008-03-03 04:57:05    1577                 44               15   \n",
      "5  2008-06-25 14:53:17     476                  2                0   \n",
      "6  2009-07-22 16:47:01      53                  0                0   \n",
      "7  2010-07-04 17:18:40     136                  2                0   \n",
      "8  2010-10-01 17:29:36     381                  1                0   \n",
      "9  2007-08-04 20:21:09     752                  2                0   \n",
      "\n",
      "   compliment_funny  compliment_plain  review_count  \\\n",
      "0              2541              5691          1220   \n",
      "1              2205              3293          2136   \n",
      "2                31                20           119   \n",
      "3              1566              4510           987   \n",
      "4               310               131           495   \n",
      "5                24                15           229   \n",
      "6                 2                 1            51   \n",
      "7                12                 6            51   \n",
      "8                30                47           299   \n",
      "9                24                32           288   \n",
      "\n",
      "                                             friends  fans  compliment_note  \\\n",
      "0  xBDpTUbai0DXrvxCe3X16Q, 7GPNBO496aecrjJfW6UWtg...  1357             1212   \n",
      "1  XPzYf9_mwG2eXYP2BAGSTA, 2LooM5dcIk2o01nftYdPIg...  1025             1187   \n",
      "2  GfB6sC4NJQvSI2ewbQrDNA, jhZtzZNNZJOU2YSZ6jPlXQ...    16                5   \n",
      "3  HQZPQhKMwRAyS6BCselVWQ, kP2U1s_sjQfHO9grxiyDTA...   420             1120   \n",
      "4  -Q88pZUcrfN0BLBDp-bkAQ, etPn4Pv1Gc4cRZjRgB_BOw...    47               77   \n",
      "5  2ptwW5l68069vNtW8J-WOg, 4TVFuz8L4TsDtx_ObSin9g...    17               10   \n",
      "6  DlT1HhrcYfDhjJNUyskU5g, C0ly5C7RzTlzh0M55YspDw...     1                3   \n",
      "7  _Tpd51CSlnOyvDTpOtgG5w, jVYzrVblDFSuL3GHtt8ZSA...     4                4   \n",
      "8  VGfzq5na6LZUwxwWO5eVLA, 35uHDsVOEsWbLdEg8Ttobg...    23               17   \n",
      "9  vePby1OhpTiQiX75XrN97A, UG8cewYtZdep2hzSekIqYg...    25               12   \n",
      "\n",
      "   ...  compliment_cute  average_stars                 user_id  \\\n",
      "0  ...              361           3.85  q_QQ5kBBwlCcbL1s4NVK3g   \n",
      "1  ...              232           4.09  dIIKEfOgo0KqUfGQvGikPg   \n",
      "2  ...                0           3.76  D6ErcUnFALnCQN4b1W_TlA   \n",
      "3  ...              219           3.77  JnPIjvC0cmooNDfsa9BmXg   \n",
      "4  ...               16           3.72  37Hc8hr3cw0iHLoPzLK6Ow   \n",
      "5  ...                0           3.59  n-QwITZYrXlKQRiV30MqNg   \n",
      "6  ...                0           3.86  eCJoZqpV1fDKJGAsXmWXqQ   \n",
      "7  ...                1           3.79  cojecOwQJpsYDxnjtgzteQ   \n",
      "8  ...                6           3.43  1jXmzuIFKxTnEnR0pxO0Hg   \n",
      "9  ...                2           3.88  -8QoOIfvwwxJ4sY201WP5A   \n",
      "\n",
      "   compliment_more                                              elite  \\\n",
      "0              163       2006,2007,2008,2009,2010,2011,2012,2013,2014   \n",
      "1               87  2007,2008,2009,2010,2011,2012,2013,2014,2015,2...   \n",
      "2                1                                          2010,2011   \n",
      "3              129                      2009,2010,2011,2012,2013,2014   \n",
      "4               19                                     2009,2010,2011   \n",
      "5                4                 2010,2011,2012,2013,2014,2015,2016   \n",
      "6                0                                                NaN   \n",
      "7                5                                          2010,2011   \n",
      "8                8                      2010,2011,2012,2013,2014,2015   \n",
      "9                4                 2012,2013,2014,2015,2016,2017,2018   \n",
      "\n",
      "   compliment_hot   cool        name  compliment_profile compliment_cool  \n",
      "0            1710  11291        Jane                 190            2541  \n",
      "1            1632  18046        Gabi                  94            2205  \n",
      "2              22    130       Jason                   3              31  \n",
      "3            1180   4035         Kat                  93            1566  \n",
      "4             248   1124   Christine                  32             310  \n",
      "5              18    140     Natasha                   3              24  \n",
      "6               0     16     Bridget                   0               2  \n",
      "7               4     44      Steven                   2              12  \n",
      "8              17    121       Clara                   2              30  \n",
      "9               8    306  Antoinette                   6              24  \n",
      "\n",
      "[10 rows x 22 columns]\n",
      "\n"
     ]
    }
   ],
   "source": [
    "chunksize = 10\n",
    "df_list = list()\n",
    "i=0\n",
    "with pd.read_csv(os.path.join(data_dir, \"yelp_academic_dataset_user.csv\"), chunksize=chunksize) as reader:\n",
    "    for chunk in tqdm(reader):\n",
    "        if i < 1:\n",
    "            print(chunk)    \n",
    "            i = i + 1\n",
    "        else:\n",
    "            break\n"
   ]
  },
  {
   "cell_type": "code",
   "execution_count": 17,
   "metadata": {},
   "outputs": [
    {
     "output_type": "execute_result",
     "data": {
      "text/plain": [
       "          yelping_since  useful  compliment_photos  compliment_list  \\\n",
       "10  2008-11-03 17:31:30     159                  1                1   \n",
       "11  2005-07-22 11:07:20     116                  0                1   \n",
       "12  2009-01-29 03:48:53    2235                 17                4   \n",
       "13  2009-09-30 12:20:56    1469                  2                3   \n",
       "14  2009-04-18 13:14:33       6                  0                0   \n",
       "\n",
       "    compliment_funny  compliment_plain  review_count  \\\n",
       "10                14                 8            44   \n",
       "11                 2                 2            65   \n",
       "12               162               165           750   \n",
       "13                93               114           632   \n",
       "14                 0                 0             2   \n",
       "\n",
       "                                              friends  fans  compliment_note  \\\n",
       "10  8z3hZO0SE75e6kO2Bsm8pA, bRHT_AP9l_HNgGsX4PnDiw...     5                1   \n",
       "11  ISN91YL7nkU_X_bovO2Lyg, sxsXw8QrbFTUzVVGGLNdOg...     2                1   \n",
       "12  dyfc7mHf52_EKUBPHJ1NJw, 4gAD7fnWZNYP3TIMJGyt5A...    86               72   \n",
       "13  fv54kCf31SFX0_5IX4klYg, pH3Glr-87CaV_w4mv3ZB5w...    44               77   \n",
       "14  kwFrKHPFRhsVC-giWwA2PA, sa3iJuVNk3GnHiN3WeRT9A...     0                0   \n",
       "\n",
       "    ...  compliment_cute  average_stars                 user_id  \\\n",
       "10  ...                0           3.83  EtofuImujQBSo02xa6ZRtQ   \n",
       "11  ...                3           4.18  cxS6dbjyPgPS1S890u_khA   \n",
       "12  ...                3           4.16  MUzkXfPS9JaMgJ907orz0g   \n",
       "13  ...                0           3.66  tjwblGkWN9m0vsGaypJ0Vw   \n",
       "14  ...                0           4.50  m-zIVssiXN4bnDFqMdPtEA   \n",
       "\n",
       "    compliment_more                                              elite  \\\n",
       "10                6                                          2009,2010   \n",
       "11                2                                                NaN   \n",
       "12               21  2010,2012,2013,2014,2015,2016,2017,2018,2019,2...   \n",
       "13                5  2010,2011,2012,2013,2014,2015,2016,2017,2018,2...   \n",
       "14                0                                                NaN   \n",
       "\n",
       "    compliment_hot cool       name  compliment_profile compliment_cool  \n",
       "10              16  138  Hollyanna                   1              14  \n",
       "11               2   77        Joe                   0               2  \n",
       "12              40  893      Damon                   5             162  \n",
       "13              47  629        Ben                   1              93  \n",
       "14               0    0      Bryan                   0               0  \n",
       "\n",
       "[5 rows x 22 columns]"
      ],
      "text/html": "<div>\n<style scoped>\n    .dataframe tbody tr th:only-of-type {\n        vertical-align: middle;\n    }\n\n    .dataframe tbody tr th {\n        vertical-align: top;\n    }\n\n    .dataframe thead th {\n        text-align: right;\n    }\n</style>\n<table border=\"1\" class=\"dataframe\">\n  <thead>\n    <tr style=\"text-align: right;\">\n      <th></th>\n      <th>yelping_since</th>\n      <th>useful</th>\n      <th>compliment_photos</th>\n      <th>compliment_list</th>\n      <th>compliment_funny</th>\n      <th>compliment_plain</th>\n      <th>review_count</th>\n      <th>friends</th>\n      <th>fans</th>\n      <th>compliment_note</th>\n      <th>...</th>\n      <th>compliment_cute</th>\n      <th>average_stars</th>\n      <th>user_id</th>\n      <th>compliment_more</th>\n      <th>elite</th>\n      <th>compliment_hot</th>\n      <th>cool</th>\n      <th>name</th>\n      <th>compliment_profile</th>\n      <th>compliment_cool</th>\n    </tr>\n  </thead>\n  <tbody>\n    <tr>\n      <th>10</th>\n      <td>2008-11-03 17:31:30</td>\n      <td>159</td>\n      <td>1</td>\n      <td>1</td>\n      <td>14</td>\n      <td>8</td>\n      <td>44</td>\n      <td>8z3hZO0SE75e6kO2Bsm8pA, bRHT_AP9l_HNgGsX4PnDiw...</td>\n      <td>5</td>\n      <td>1</td>\n      <td>...</td>\n      <td>0</td>\n      <td>3.83</td>\n      <td>EtofuImujQBSo02xa6ZRtQ</td>\n      <td>6</td>\n      <td>2009,2010</td>\n      <td>16</td>\n      <td>138</td>\n      <td>Hollyanna</td>\n      <td>1</td>\n      <td>14</td>\n    </tr>\n    <tr>\n      <th>11</th>\n      <td>2005-07-22 11:07:20</td>\n      <td>116</td>\n      <td>0</td>\n      <td>1</td>\n      <td>2</td>\n      <td>2</td>\n      <td>65</td>\n      <td>ISN91YL7nkU_X_bovO2Lyg, sxsXw8QrbFTUzVVGGLNdOg...</td>\n      <td>2</td>\n      <td>1</td>\n      <td>...</td>\n      <td>3</td>\n      <td>4.18</td>\n      <td>cxS6dbjyPgPS1S890u_khA</td>\n      <td>2</td>\n      <td>NaN</td>\n      <td>2</td>\n      <td>77</td>\n      <td>Joe</td>\n      <td>0</td>\n      <td>2</td>\n    </tr>\n    <tr>\n      <th>12</th>\n      <td>2009-01-29 03:48:53</td>\n      <td>2235</td>\n      <td>17</td>\n      <td>4</td>\n      <td>162</td>\n      <td>165</td>\n      <td>750</td>\n      <td>dyfc7mHf52_EKUBPHJ1NJw, 4gAD7fnWZNYP3TIMJGyt5A...</td>\n      <td>86</td>\n      <td>72</td>\n      <td>...</td>\n      <td>3</td>\n      <td>4.16</td>\n      <td>MUzkXfPS9JaMgJ907orz0g</td>\n      <td>21</td>\n      <td>2010,2012,2013,2014,2015,2016,2017,2018,2019,2...</td>\n      <td>40</td>\n      <td>893</td>\n      <td>Damon</td>\n      <td>5</td>\n      <td>162</td>\n    </tr>\n    <tr>\n      <th>13</th>\n      <td>2009-09-30 12:20:56</td>\n      <td>1469</td>\n      <td>2</td>\n      <td>3</td>\n      <td>93</td>\n      <td>114</td>\n      <td>632</td>\n      <td>fv54kCf31SFX0_5IX4klYg, pH3Glr-87CaV_w4mv3ZB5w...</td>\n      <td>44</td>\n      <td>77</td>\n      <td>...</td>\n      <td>0</td>\n      <td>3.66</td>\n      <td>tjwblGkWN9m0vsGaypJ0Vw</td>\n      <td>5</td>\n      <td>2010,2011,2012,2013,2014,2015,2016,2017,2018,2...</td>\n      <td>47</td>\n      <td>629</td>\n      <td>Ben</td>\n      <td>1</td>\n      <td>93</td>\n    </tr>\n    <tr>\n      <th>14</th>\n      <td>2009-04-18 13:14:33</td>\n      <td>6</td>\n      <td>0</td>\n      <td>0</td>\n      <td>0</td>\n      <td>0</td>\n      <td>2</td>\n      <td>kwFrKHPFRhsVC-giWwA2PA, sa3iJuVNk3GnHiN3WeRT9A...</td>\n      <td>0</td>\n      <td>0</td>\n      <td>...</td>\n      <td>0</td>\n      <td>4.50</td>\n      <td>m-zIVssiXN4bnDFqMdPtEA</td>\n      <td>0</td>\n      <td>NaN</td>\n      <td>0</td>\n      <td>0</td>\n      <td>Bryan</td>\n      <td>0</td>\n      <td>0</td>\n    </tr>\n  </tbody>\n</table>\n<p>5 rows × 22 columns</p>\n</div>"
     },
     "metadata": {},
     "execution_count": 17
    }
   ],
   "source": [
    "chunk.head()"
   ]
  },
  {
   "cell_type": "code",
   "execution_count": 18,
   "metadata": {},
   "outputs": [
    {
     "output_type": "stream",
     "name": "stderr",
     "text": [
      "\n",
      "0it [00:00, ?it/s]                                                date             business_id\n",
      "0                                2017-09-03 17:13:59  --0r8K_AQ4FZfLsX3ZYRDA\n",
      "1  2010-10-08 22:21:20, 2010-11-01 21:29:14, 2010...  --0zrn43LEaB4jUWTQH_Bg\n",
      "2  2010-02-26 02:06:53, 2010-02-27 08:00:09, 2010...  --164t1nclzzmca7eDiJMw\n",
      "3  2014-11-03 16:35:35, 2015-01-30 18:16:03, 2015...  --2aF9NhXnNVpDV0KS3xBQ\n",
      "4  2010-12-15 17:10:46, 2013-12-28 00:27:54, 2015...  --2mEJ63SC_8_08_jGgVIg\n",
      "5  2012-09-23 20:58:03, 2012-10-08 22:49:59, 2012...  --6COJIAjkQwSUZci_4PJQ\n",
      "6           2014-08-02 14:12:55, 2015-02-21 17:37:57  --DzGwfuJH12DjYz95VW0Q\n",
      "7           2012-08-27 21:10:37, 2012-09-21 22:35:50  --EoF6KmeDuki2vBWhPqCw\n",
      "8  2011-08-15 22:43:08, 2015-11-16 13:19:35, 2017...  --JKSSgnfoOjVDFGv692BA\n",
      "9                                2016-06-08 15:40:03  --JuLhLvq3gyjNnXT9Q95w\n",
      "\n"
     ]
    }
   ],
   "source": [
    "chunksize = 10\n",
    "df_list = list()\n",
    "i=0\n",
    "with pd.read_csv(os.path.join(data_dir, \"yelp_academic_dataset_checkin.csv\"), chunksize=chunksize) as reader:\n",
    "    for chunk in tqdm(reader):\n",
    "        if i < 1:\n",
    "            print(chunk)    \n",
    "            i = i + 1\n",
    "        else:\n",
    "            break"
   ]
  },
  {
   "cell_type": "code",
   "execution_count": 20,
   "metadata": {},
   "outputs": [
    {
     "output_type": "execute_result",
     "data": {
      "text/plain": [
       "                                                 date             business_id\n",
       "10  2020-07-15 22:29:52, 2020-07-16 22:42:20, 2020...  --Q3mAcX9t63f7Xcbn7LVA\n",
       "11  2010-02-07 05:58:54, 2010-02-21 04:14:22, 2010...  --UNNdnHRhsyFUbDgumdtQ\n",
       "12  2014-11-18 23:27:59, 2015-01-03 19:31:29, 2015...  --_nBudPOb1lNRgKfjLtrw\n",
       "13  2015-11-28 01:53:03, 2015-12-17 05:14:15, 2016...  --bbZa1KPYSmW0X4o3TUQw\n",
       "14                                2014-12-07 08:02:13  --c6cQzOAzqky9L_ptE8KA"
      ],
      "text/html": "<div>\n<style scoped>\n    .dataframe tbody tr th:only-of-type {\n        vertical-align: middle;\n    }\n\n    .dataframe tbody tr th {\n        vertical-align: top;\n    }\n\n    .dataframe thead th {\n        text-align: right;\n    }\n</style>\n<table border=\"1\" class=\"dataframe\">\n  <thead>\n    <tr style=\"text-align: right;\">\n      <th></th>\n      <th>date</th>\n      <th>business_id</th>\n    </tr>\n  </thead>\n  <tbody>\n    <tr>\n      <th>10</th>\n      <td>2020-07-15 22:29:52, 2020-07-16 22:42:20, 2020...</td>\n      <td>--Q3mAcX9t63f7Xcbn7LVA</td>\n    </tr>\n    <tr>\n      <th>11</th>\n      <td>2010-02-07 05:58:54, 2010-02-21 04:14:22, 2010...</td>\n      <td>--UNNdnHRhsyFUbDgumdtQ</td>\n    </tr>\n    <tr>\n      <th>12</th>\n      <td>2014-11-18 23:27:59, 2015-01-03 19:31:29, 2015...</td>\n      <td>--_nBudPOb1lNRgKfjLtrw</td>\n    </tr>\n    <tr>\n      <th>13</th>\n      <td>2015-11-28 01:53:03, 2015-12-17 05:14:15, 2016...</td>\n      <td>--bbZa1KPYSmW0X4o3TUQw</td>\n    </tr>\n    <tr>\n      <th>14</th>\n      <td>2014-12-07 08:02:13</td>\n      <td>--c6cQzOAzqky9L_ptE8KA</td>\n    </tr>\n  </tbody>\n</table>\n</div>"
     },
     "metadata": {},
     "execution_count": 20
    }
   ],
   "source": [
    "chunk.head()"
   ]
  },
  {
   "cell_type": "code",
   "execution_count": 25,
   "metadata": {},
   "outputs": [
    {
     "output_type": "stream",
     "name": "stderr",
     "text": [
      "\n",
      "0it [00:00, ?it/s]                  user_id                                               text  \\\n",
      "0  WCjg0jdHXMlwbqS9tZUx8Q                               Carne asada chips...   \n",
      "1  42-Z02y9bABShAGZhuSzrQ  Best happy hour from 3pm to 6pm! $1 off martin...   \n",
      "2  5u7E3LYp_3eB8dLuUBazXQ  Nice people, skilled staff, clean location - b...   \n",
      "3  wDWoMG5N9oI4DJ-p7z8EBg  1/2-price bowling & the \"Very\" Old Fashion are...   \n",
      "4  JmuFlorjjRshHTKzTwNtgg  Solid gold's. Great sauna. Great staff, too. E...   \n",
      "5  MHmKe1NQ1pCpIrbK4XREDw  Try a few different styles and instructors of ...   \n",
      "6  S5tOE7JAvaeXBEibnAV02g  On The Border was very fresh and fast for non-...   \n",
      "7  fTsVDajAyDJ-YzsSdfXSDw                             Cold cuts are the best   \n",
      "8  g3HFkZgloxLQCvoJ5Zs5gg         Water Ave coffee served here--& @ L Jeans!   \n",
      "9  sNVpZLDSlCudlXLsnJpg7A                                         So busy...   \n",
      "\n",
      "              business_id  compliment_count                 date  \n",
      "0  ENwBByjpoa5Gg7tKgxqwLg                 0  2011-07-22 19:07:35  \n",
      "1  jKO4Og6ucdX2-YCTKQVYjg                 0  2014-09-10 07:33:29  \n",
      "2  9Bto7mky640ocgezVKSfVg                 0  2013-12-13 23:23:41  \n",
      "3  XWFjKtRGZ9khRGtGg2ZvaA                 0  2017-07-11 23:07:16  \n",
      "4  mkrx0VhSMU3p3uhyJGCoWA                 0  2016-11-30 08:46:36  \n",
      "5  VQftVUvHfMQdDTmnO0iQqg                 0  2010-03-22 21:40:26  \n",
      "6  2PxZ-fICnd432NJHefXrcA                 0  2011-10-08 17:14:20  \n",
      "7  oQyf1788YWsiDLupGva6sw                 0  2015-06-09 14:35:57  \n",
      "8  OQ2oHkcWA8KNC1Lsvj1SBA                 0  2018-03-22 15:28:09  \n",
      "9  Wqetc51pFQzz04SXh_AORA                 0  2014-06-07 12:09:55  \n",
      "\n"
     ]
    },
    {
     "output_type": "execute_result",
     "data": {
      "text/plain": [
       "                   user_id                                               text  \\\n",
       "10  tOFEtck_Xnj7y0VzXtqCtA                     Most important 1 of the night.   \n",
       "11  cpCfHpe9nz75MrNk6THyxA  Good food, nicely priced and great service. Fr...   \n",
       "12  TOkW-RuqftALEh8E99UazQ                         Clam chowder is fantastic!   \n",
       "13  -idPg_CrUNFx1xAC6yiZjQ                 French Dessert! Love my chocolate!   \n",
       "14  -2sNTzGyci98Mp9PmPRg8w                   The Phoenix roll is a MUST here.   \n",
       "\n",
       "               business_id  compliment_count                 date  \n",
       "10  EUOuLlhkf1PBM9G9rdxBtQ                 0  2011-12-24 06:32:37  \n",
       "11  2fkTxtF59cYdktacQ6-axg                 0  2013-02-04 06:49:01  \n",
       "12  tdIyREwlre3SVU41a4eBgA                 0  2014-03-16 18:01:55  \n",
       "13  7d3IefhfwjcbTF-UyrBy4A                 0  2012-07-25 04:15:23  \n",
       "14  QVVoIHWggdCxZuZQjllD_Q                 0  2011-07-16 23:47:13  "
      ],
      "text/html": "<div>\n<style scoped>\n    .dataframe tbody tr th:only-of-type {\n        vertical-align: middle;\n    }\n\n    .dataframe tbody tr th {\n        vertical-align: top;\n    }\n\n    .dataframe thead th {\n        text-align: right;\n    }\n</style>\n<table border=\"1\" class=\"dataframe\">\n  <thead>\n    <tr style=\"text-align: right;\">\n      <th></th>\n      <th>user_id</th>\n      <th>text</th>\n      <th>business_id</th>\n      <th>compliment_count</th>\n      <th>date</th>\n    </tr>\n  </thead>\n  <tbody>\n    <tr>\n      <th>10</th>\n      <td>tOFEtck_Xnj7y0VzXtqCtA</td>\n      <td>Most important 1 of the night.</td>\n      <td>EUOuLlhkf1PBM9G9rdxBtQ</td>\n      <td>0</td>\n      <td>2011-12-24 06:32:37</td>\n    </tr>\n    <tr>\n      <th>11</th>\n      <td>cpCfHpe9nz75MrNk6THyxA</td>\n      <td>Good food, nicely priced and great service. Fr...</td>\n      <td>2fkTxtF59cYdktacQ6-axg</td>\n      <td>0</td>\n      <td>2013-02-04 06:49:01</td>\n    </tr>\n    <tr>\n      <th>12</th>\n      <td>TOkW-RuqftALEh8E99UazQ</td>\n      <td>Clam chowder is fantastic!</td>\n      <td>tdIyREwlre3SVU41a4eBgA</td>\n      <td>0</td>\n      <td>2014-03-16 18:01:55</td>\n    </tr>\n    <tr>\n      <th>13</th>\n      <td>-idPg_CrUNFx1xAC6yiZjQ</td>\n      <td>French Dessert! Love my chocolate!</td>\n      <td>7d3IefhfwjcbTF-UyrBy4A</td>\n      <td>0</td>\n      <td>2012-07-25 04:15:23</td>\n    </tr>\n    <tr>\n      <th>14</th>\n      <td>-2sNTzGyci98Mp9PmPRg8w</td>\n      <td>The Phoenix roll is a MUST here.</td>\n      <td>QVVoIHWggdCxZuZQjllD_Q</td>\n      <td>0</td>\n      <td>2011-07-16 23:47:13</td>\n    </tr>\n  </tbody>\n</table>\n</div>"
     },
     "metadata": {},
     "execution_count": 25
    }
   ],
   "source": [
    "chunksize = 10\n",
    "df_list = list()\n",
    "i=0\n",
    "with pd.read_csv(os.path.join(data_dir, \"yelp_academic_dataset_tip.csv\"), chunksize=chunksize) as reader:\n",
    "    for chunk in tqdm(reader):\n",
    "        if i < 1:\n",
    "            print(chunk)    \n",
    "            i = i + 1\n",
    "        else:\n",
    "            break\n",
    "chunk.head()"
   ]
  },
  {
   "cell_type": "code",
   "execution_count": 26,
   "metadata": {},
   "outputs": [
    {
     "output_type": "stream",
     "name": "stderr",
     "text": [
      "\n",
      "1it [00:00, 32.96it/s]  hours.Wednesday attributes.RestaurantsDelivery  attributes.Open24Hours  \\\n",
      "0       11:0-23:0                           None                     NaN   \n",
      "1        5:0-18:0                          False                     NaN   \n",
      "2             NaN                            NaN                     NaN   \n",
      "\n",
      "  attributes.DogsAllowed  attributes.CoatCheck  postal_code  \\\n",
      "0                  False                   NaN        80302   \n",
      "1                    NaN                   NaN        97218   \n",
      "2                    NaN                   NaN        97214   \n",
      "\n",
      "   attributes.Smoking hours.Thursday  attributes.DietaryRestrictions  \\\n",
      "0                 NaN      11:0-23:0                             NaN   \n",
      "1                 NaN       5:0-18:0                             NaN   \n",
      "2                 NaN      11:0-18:0                             NaN   \n",
      "\n",
      "       city  ... hours.Sunday  \\\n",
      "0   Boulder  ...    11:0-23:0   \n",
      "1  Portland  ...     5:0-18:0   \n",
      "2  Portland  ...    11:0-18:0   \n",
      "\n",
      "                              attributes.GoodForMeal  \\\n",
      "0  {'dessert': False, 'latenight': False, 'lunch'...   \n",
      "1  {'dessert': False, 'latenight': False, 'lunch'...   \n",
      "2                                                NaN   \n",
      "\n",
      "   attributes.GoodForDancing  attributes.Caters attributes.AcceptsInsurance  \\\n",
      "0                        NaN               True                         NaN   \n",
      "1                        NaN               True                         NaN   \n",
      "2                        NaN                NaN                         NaN   \n",
      "\n",
      "   attributes.RestaurantsReservations  \\\n",
      "0                               False   \n",
      "1                               False   \n",
      "2                                 NaN   \n",
      "\n",
      "                                          attributes  \\\n",
      "0  {u'Alcohol': u\"'beer_and_wine'\", u'HasTV': u'T...   \n",
      "1  {u'GoodForMeal': u\"{'dessert': False, 'latenig...   \n",
      "2  {u'BusinessAcceptsCreditCards': u'True', u'Res...   \n",
      "\n",
      "  attributes.RestaurantsTakeOut  attributes.BikeParking  \\\n",
      "0                          True                    True   \n",
      "1                          True                   False   \n",
      "2                           NaN                   False   \n",
      "\n",
      "  attributes.OutdoorSeating  \n",
      "0                      True  \n",
      "1                     False  \n",
      "2                       NaN  \n",
      "\n",
      "[3 rows x 60 columns]\n",
      "\n"
     ]
    },
    {
     "output_type": "execute_result",
     "data": {
      "text/plain": [
       "  hours.Wednesday attributes.RestaurantsDelivery  attributes.Open24Hours  \\\n",
       "0       11:0-23:0                           None                     NaN   \n",
       "1        5:0-18:0                          False                     NaN   \n",
       "2             NaN                            NaN                     NaN   \n",
       "\n",
       "  attributes.DogsAllowed  attributes.CoatCheck  postal_code  \\\n",
       "0                  False                   NaN        80302   \n",
       "1                    NaN                   NaN        97218   \n",
       "2                    NaN                   NaN        97214   \n",
       "\n",
       "   attributes.Smoking hours.Thursday  attributes.DietaryRestrictions  \\\n",
       "0                 NaN      11:0-23:0                             NaN   \n",
       "1                 NaN       5:0-18:0                             NaN   \n",
       "2                 NaN      11:0-18:0                             NaN   \n",
       "\n",
       "       city  ... hours.Sunday  \\\n",
       "0   Boulder  ...    11:0-23:0   \n",
       "1  Portland  ...     5:0-18:0   \n",
       "2  Portland  ...    11:0-18:0   \n",
       "\n",
       "                              attributes.GoodForMeal  \\\n",
       "0  {'dessert': False, 'latenight': False, 'lunch'...   \n",
       "1  {'dessert': False, 'latenight': False, 'lunch'...   \n",
       "2                                                NaN   \n",
       "\n",
       "   attributes.GoodForDancing  attributes.Caters attributes.AcceptsInsurance  \\\n",
       "0                        NaN               True                         NaN   \n",
       "1                        NaN               True                         NaN   \n",
       "2                        NaN                NaN                         NaN   \n",
       "\n",
       "   attributes.RestaurantsReservations  \\\n",
       "0                               False   \n",
       "1                               False   \n",
       "2                                 NaN   \n",
       "\n",
       "                                          attributes  \\\n",
       "0  {u'Alcohol': u\"'beer_and_wine'\", u'HasTV': u'T...   \n",
       "1  {u'GoodForMeal': u\"{'dessert': False, 'latenig...   \n",
       "2  {u'BusinessAcceptsCreditCards': u'True', u'Res...   \n",
       "\n",
       "  attributes.RestaurantsTakeOut  attributes.BikeParking  \\\n",
       "0                          True                    True   \n",
       "1                          True                   False   \n",
       "2                           NaN                   False   \n",
       "\n",
       "  attributes.OutdoorSeating  \n",
       "0                      True  \n",
       "1                     False  \n",
       "2                       NaN  \n",
       "\n",
       "[3 rows x 60 columns]"
      ],
      "text/html": "<div>\n<style scoped>\n    .dataframe tbody tr th:only-of-type {\n        vertical-align: middle;\n    }\n\n    .dataframe tbody tr th {\n        vertical-align: top;\n    }\n\n    .dataframe thead th {\n        text-align: right;\n    }\n</style>\n<table border=\"1\" class=\"dataframe\">\n  <thead>\n    <tr style=\"text-align: right;\">\n      <th></th>\n      <th>hours.Wednesday</th>\n      <th>attributes.RestaurantsDelivery</th>\n      <th>attributes.Open24Hours</th>\n      <th>attributes.DogsAllowed</th>\n      <th>attributes.CoatCheck</th>\n      <th>postal_code</th>\n      <th>attributes.Smoking</th>\n      <th>hours.Thursday</th>\n      <th>attributes.DietaryRestrictions</th>\n      <th>city</th>\n      <th>...</th>\n      <th>hours.Sunday</th>\n      <th>attributes.GoodForMeal</th>\n      <th>attributes.GoodForDancing</th>\n      <th>attributes.Caters</th>\n      <th>attributes.AcceptsInsurance</th>\n      <th>attributes.RestaurantsReservations</th>\n      <th>attributes</th>\n      <th>attributes.RestaurantsTakeOut</th>\n      <th>attributes.BikeParking</th>\n      <th>attributes.OutdoorSeating</th>\n    </tr>\n  </thead>\n  <tbody>\n    <tr>\n      <th>0</th>\n      <td>11:0-23:0</td>\n      <td>None</td>\n      <td>NaN</td>\n      <td>False</td>\n      <td>NaN</td>\n      <td>80302</td>\n      <td>NaN</td>\n      <td>11:0-23:0</td>\n      <td>NaN</td>\n      <td>Boulder</td>\n      <td>...</td>\n      <td>11:0-23:0</td>\n      <td>{'dessert': False, 'latenight': False, 'lunch'...</td>\n      <td>NaN</td>\n      <td>True</td>\n      <td>NaN</td>\n      <td>False</td>\n      <td>{u'Alcohol': u\"'beer_and_wine'\", u'HasTV': u'T...</td>\n      <td>True</td>\n      <td>True</td>\n      <td>True</td>\n    </tr>\n    <tr>\n      <th>1</th>\n      <td>5:0-18:0</td>\n      <td>False</td>\n      <td>NaN</td>\n      <td>NaN</td>\n      <td>NaN</td>\n      <td>97218</td>\n      <td>NaN</td>\n      <td>5:0-18:0</td>\n      <td>NaN</td>\n      <td>Portland</td>\n      <td>...</td>\n      <td>5:0-18:0</td>\n      <td>{'dessert': False, 'latenight': False, 'lunch'...</td>\n      <td>NaN</td>\n      <td>True</td>\n      <td>NaN</td>\n      <td>False</td>\n      <td>{u'GoodForMeal': u\"{'dessert': False, 'latenig...</td>\n      <td>True</td>\n      <td>False</td>\n      <td>False</td>\n    </tr>\n    <tr>\n      <th>2</th>\n      <td>NaN</td>\n      <td>NaN</td>\n      <td>NaN</td>\n      <td>NaN</td>\n      <td>NaN</td>\n      <td>97214</td>\n      <td>NaN</td>\n      <td>11:0-18:0</td>\n      <td>NaN</td>\n      <td>Portland</td>\n      <td>...</td>\n      <td>11:0-18:0</td>\n      <td>NaN</td>\n      <td>NaN</td>\n      <td>NaN</td>\n      <td>NaN</td>\n      <td>NaN</td>\n      <td>{u'BusinessAcceptsCreditCards': u'True', u'Res...</td>\n      <td>NaN</td>\n      <td>False</td>\n      <td>NaN</td>\n    </tr>\n  </tbody>\n</table>\n<p>3 rows × 60 columns</p>\n</div>"
     },
     "metadata": {},
     "execution_count": 26
    }
   ],
   "source": [
    "chunksize = 10\n",
    "df_list = list()\n",
    "i=0\n",
    "with pd.read_csv(os.path.join(data_dir, \"yelp_academic_dataset_business.csv\"), chunksize=chunksize) as reader:\n",
    "    for chunk in tqdm(reader):\n",
    "        if i < 1:\n",
    "            print(chunk)    \n",
    "            i = i + 1\n",
    "        else:\n",
    "            break\n",
    "chunk.head()"
   ]
  },
  {
   "cell_type": "code",
   "execution_count": 30,
   "metadata": {},
   "outputs": [],
   "source": [
    "review = pd.read_csv(os.path.join(data_dir, 'abbr_yelp_academic_dataset_review.csv'), header=None)\n"
   ]
  },
  {
   "cell_type": "code",
   "execution_count": 31,
   "metadata": {},
   "outputs": [
    {
     "output_type": "execute_result",
     "data": {
      "text/plain": [
       "                                                   0\n",
       "0  buF9druCkbuXLX526sGELQ\\t4.0\\t2014-10-11 03:34:...\n",
       "1  RA4V8pr014UyUbDvI-LW2A\\t4.0\\t2015-07-03 20:38:...\n",
       "2  _sS2LBIGNT5NQb6PD1Vtjw\\t5.0\\t2013-05-28 20:38:...\n",
       "3  0AzLzHfOJgL7ROwhdww2ew\\t2.0\\t2010-01-08 02:29:...\n",
       "4  8zehGz9jnxPqXtOc7KaJxA\\t4.0\\t2011-07-28 18:05:..."
      ],
      "text/html": "<div>\n<style scoped>\n    .dataframe tbody tr th:only-of-type {\n        vertical-align: middle;\n    }\n\n    .dataframe tbody tr th {\n        vertical-align: top;\n    }\n\n    .dataframe thead th {\n        text-align: right;\n    }\n</style>\n<table border=\"1\" class=\"dataframe\">\n  <thead>\n    <tr style=\"text-align: right;\">\n      <th></th>\n      <th>0</th>\n    </tr>\n  </thead>\n  <tbody>\n    <tr>\n      <th>0</th>\n      <td>buF9druCkbuXLX526sGELQ\\t4.0\\t2014-10-11 03:34:...</td>\n    </tr>\n    <tr>\n      <th>1</th>\n      <td>RA4V8pr014UyUbDvI-LW2A\\t4.0\\t2015-07-03 20:38:...</td>\n    </tr>\n    <tr>\n      <th>2</th>\n      <td>_sS2LBIGNT5NQb6PD1Vtjw\\t5.0\\t2013-05-28 20:38:...</td>\n    </tr>\n    <tr>\n      <th>3</th>\n      <td>0AzLzHfOJgL7ROwhdww2ew\\t2.0\\t2010-01-08 02:29:...</td>\n    </tr>\n    <tr>\n      <th>4</th>\n      <td>8zehGz9jnxPqXtOc7KaJxA\\t4.0\\t2011-07-28 18:05:...</td>\n    </tr>\n  </tbody>\n</table>\n</div>"
     },
     "metadata": {},
     "execution_count": 31
    }
   ],
   "source": [
    "review.head()"
   ]
  },
  {
   "cell_type": "code",
   "execution_count": null,
   "metadata": {},
   "outputs": [],
   "source": []
  }
 ]
}