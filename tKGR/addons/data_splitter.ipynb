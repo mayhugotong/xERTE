{
 "metadata": {
  "language_info": {
   "codemirror_mode": {
    "name": "ipython",
    "version": 3
   },
   "file_extension": ".py",
   "mimetype": "text/x-python",
   "name": "python",
   "nbconvert_exporter": "python",
   "pygments_lexer": "ipython3",
   "version": "3.8.5"
  },
  "orig_nbformat": 2,
  "kernelspec": {
   "name": "python3",
   "display_name": "Python 3.8.5 64-bit",
   "metadata": {
    "interpreter": {
     "hash": "fffa52f1d8ef121a86a44a9c7b9704654ab6609c3cf447b67bdb9639eececf23"
    }
   }
  }
 },
 "nbformat": 4,
 "nbformat_minor": 2,
 "cells": [
  {
   "cell_type": "code",
   "execution_count": 1,
   "metadata": {},
   "outputs": [],
   "source": [
    "import os\n",
    "import sys\n",
    "import numpy as np\n",
    "import pandas as pd\n",
    "import csv\n"
   ]
  },
  {
   "cell_type": "code",
   "execution_count": 7,
   "metadata": {},
   "outputs": [
    {
     "output_type": "error",
     "ename": "SyntaxError",
     "evalue": "closing parenthesis ']' does not match opening parenthesis '(' (<ipython-input-7-7939dfd55601>, line 5)",
     "traceback": [
      "\u001b[0;36m  File \u001b[0;32m\"<ipython-input-7-7939dfd55601>\"\u001b[0;36m, line \u001b[0;32m5\u001b[0m\n\u001b[0;31m    df=df.reindex(columns=['user','rating','movie','timestamp']])\u001b[0m\n\u001b[0m                                                               ^\u001b[0m\n\u001b[0;31mSyntaxError\u001b[0m\u001b[0;31m:\u001b[0m closing parenthesis ']' does not match opening parenthesis '('\n"
     ]
    }
   ],
   "source": [
    "data_dir = \"/mnt/c/Users/ruotong/Home/xERTE/tKGR/data/ml-1m\"\n",
    "print(os.listdir(data_dir))\n",
    "df = pd.read_csv(os.path.join(data_dir, \"ratings.dat\"), sep=\"::\",header=None, names=['user','movie','rating','timestamp'])\n",
    "print(df.head())\n",
    "df=df.reindex(columns=['user','rating','movie','timestamp'])\n",
    "df.head()"
   ]
  },
  {
   "cell_type": "code",
   "execution_count": null,
   "metadata": {},
   "outputs": [],
   "source": []
  }
 ]
}