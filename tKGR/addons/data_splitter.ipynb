{
 "metadata": {
  "language_info": {
   "codemirror_mode": {
    "name": "ipython",
    "version": 3
   },
   "file_extension": ".py",
   "mimetype": "text/x-python",
   "name": "python",
   "nbconvert_exporter": "python",
   "pygments_lexer": "ipython3",
   "version": "3.8.5"
  },
  "orig_nbformat": 2,
  "kernelspec": {
   "name": "python3",
   "display_name": "Python 3.8.5 64-bit",
   "metadata": {
    "interpreter": {
     "hash": "fffa52f1d8ef121a86a44a9c7b9704654ab6609c3cf447b67bdb9639eececf23"
    }
   }
  }
 },
 "nbformat": 4,
 "nbformat_minor": 2,
 "cells": [
  {
   "cell_type": "code",
   "execution_count": 1,
   "metadata": {},
   "outputs": [],
   "source": [
    "import os\n",
    "import sys\n",
    "import numpy as np\n",
    "import pandas as pd\n",
    "import csv\n"
   ]
  },
  {
   "cell_type": "code",
   "execution_count": 9,
   "metadata": {},
   "outputs": [
    {
     "output_type": "stream",
     "name": "stdout",
     "text": [
      "['movies.dat', 'ratings.dat', 'README', 'users.dat']\n"
     ]
    },
    {
     "output_type": "execute_result",
     "data": {
      "text/plain": [
       "   user  rating  movie  timestamp\n",
       "0     1       5   1193  978300760\n",
       "1     1       3    661  978302109\n",
       "2     1       3    914  978301968\n",
       "3     1       4   3408  978300275\n",
       "4     1       5   2355  978824291"
      ],
      "text/html": "<div>\n<style scoped>\n    .dataframe tbody tr th:only-of-type {\n        vertical-align: middle;\n    }\n\n    .dataframe tbody tr th {\n        vertical-align: top;\n    }\n\n    .dataframe thead th {\n        text-align: right;\n    }\n</style>\n<table border=\"1\" class=\"dataframe\">\n  <thead>\n    <tr style=\"text-align: right;\">\n      <th></th>\n      <th>user</th>\n      <th>rating</th>\n      <th>movie</th>\n      <th>timestamp</th>\n    </tr>\n  </thead>\n  <tbody>\n    <tr>\n      <th>0</th>\n      <td>1</td>\n      <td>5</td>\n      <td>1193</td>\n      <td>978300760</td>\n    </tr>\n    <tr>\n      <th>1</th>\n      <td>1</td>\n      <td>3</td>\n      <td>661</td>\n      <td>978302109</td>\n    </tr>\n    <tr>\n      <th>2</th>\n      <td>1</td>\n      <td>3</td>\n      <td>914</td>\n      <td>978301968</td>\n    </tr>\n    <tr>\n      <th>3</th>\n      <td>1</td>\n      <td>4</td>\n      <td>3408</td>\n      <td>978300275</td>\n    </tr>\n    <tr>\n      <th>4</th>\n      <td>1</td>\n      <td>5</td>\n      <td>2355</td>\n      <td>978824291</td>\n    </tr>\n  </tbody>\n</table>\n</div>"
     },
     "metadata": {},
     "execution_count": 9
    }
   ],
   "source": [
    "data_dir = \"/mnt/c/Users/ruotong/Home/xERTE/tKGR/data/ml-1m\"\n",
    "print(os.listdir(data_dir))\n",
    "df = pd.read_csv(os.path.join(data_dir, \"ratings.dat\"), sep=\"::\",header=None, names=['user','movie','rating','timestamp'])\n",
    "df = df.reindex(columns=['user','rating','movie','timestamp'])\n",
    "df.head()"
   ]
  },
  {
   "cell_type": "code",
   "execution_count": 44,
   "metadata": {},
   "outputs": [],
   "source": [
    "df = df.sort_values(by=['timestamp'])\n",
    "df.head()\n",
    "split = [0.7, 0.15, 0.15]\n",
    "rat_num = len(df)\n",
    "train_data, val_data, test_data = df[:int(rat_num*split[0])],\\\n",
    "    df[int(rat_num*split[0]) : int(rat_num*(split[0]+split[1]))], \\\n",
    "    df[int(rat_num*(split[0]+split[1])) :]"
   ]
  },
  {
   "cell_type": "code",
   "execution_count": 45,
   "metadata": {},
   "outputs": [
    {
     "output_type": "execute_result",
     "data": {
      "text/plain": [
       "         user  rating  movie  timestamp\n",
       "1000138  6040       4    858  956703932\n",
       "1000153  6040       4   2384  956703954\n",
       "999873   6040       5    593  956703954\n",
       "1000007  6040       4   1961  956703977\n",
       "1000192  6040       5   2019  956703977\n",
       "...       ...     ...    ...        ...\n",
       "334424   1974       3    920  974862363\n",
       "334541   1974       5   2692  974862363\n",
       "188106   1167       4     11  974862369\n",
       "187208   1162       3   1248  974862386\n",
       "187210   1162       5   1252  974862386\n",
       "\n",
       "[700146 rows x 4 columns]"
      ],
      "text/html": "<div>\n<style scoped>\n    .dataframe tbody tr th:only-of-type {\n        vertical-align: middle;\n    }\n\n    .dataframe tbody tr th {\n        vertical-align: top;\n    }\n\n    .dataframe thead th {\n        text-align: right;\n    }\n</style>\n<table border=\"1\" class=\"dataframe\">\n  <thead>\n    <tr style=\"text-align: right;\">\n      <th></th>\n      <th>user</th>\n      <th>rating</th>\n      <th>movie</th>\n      <th>timestamp</th>\n    </tr>\n  </thead>\n  <tbody>\n    <tr>\n      <th>1000138</th>\n      <td>6040</td>\n      <td>4</td>\n      <td>858</td>\n      <td>956703932</td>\n    </tr>\n    <tr>\n      <th>1000153</th>\n      <td>6040</td>\n      <td>4</td>\n      <td>2384</td>\n      <td>956703954</td>\n    </tr>\n    <tr>\n      <th>999873</th>\n      <td>6040</td>\n      <td>5</td>\n      <td>593</td>\n      <td>956703954</td>\n    </tr>\n    <tr>\n      <th>1000007</th>\n      <td>6040</td>\n      <td>4</td>\n      <td>1961</td>\n      <td>956703977</td>\n    </tr>\n    <tr>\n      <th>1000192</th>\n      <td>6040</td>\n      <td>5</td>\n      <td>2019</td>\n      <td>956703977</td>\n    </tr>\n    <tr>\n      <th>...</th>\n      <td>...</td>\n      <td>...</td>\n      <td>...</td>\n      <td>...</td>\n    </tr>\n    <tr>\n      <th>334424</th>\n      <td>1974</td>\n      <td>3</td>\n      <td>920</td>\n      <td>974862363</td>\n    </tr>\n    <tr>\n      <th>334541</th>\n      <td>1974</td>\n      <td>5</td>\n      <td>2692</td>\n      <td>974862363</td>\n    </tr>\n    <tr>\n      <th>188106</th>\n      <td>1167</td>\n      <td>4</td>\n      <td>11</td>\n      <td>974862369</td>\n    </tr>\n    <tr>\n      <th>187208</th>\n      <td>1162</td>\n      <td>3</td>\n      <td>1248</td>\n      <td>974862386</td>\n    </tr>\n    <tr>\n      <th>187210</th>\n      <td>1162</td>\n      <td>5</td>\n      <td>1252</td>\n      <td>974862386</td>\n    </tr>\n  </tbody>\n</table>\n<p>700146 rows × 4 columns</p>\n</div>"
     },
     "metadata": {},
     "execution_count": 45
    }
   ],
   "source": [
    "train_data"
   ]
  },
  {
   "cell_type": "code",
   "execution_count": 46,
   "metadata": {},
   "outputs": [
    {
     "output_type": "execute_result",
     "data": {
      "text/plain": [
       "        user  rating  movie  timestamp\n",
       "187235  1162       3    919  974862386\n",
       "187266  1162       4   3435  974862386\n",
       "187367  1163       4    748  974862390\n",
       "187370  1163       4   1604  974862390\n",
       "187418  1163       3   1792  974862390\n",
       "...      ...     ...    ...        ...\n",
       "48463    326       3   3152  976422034\n",
       "48535    326       4   2716  976422034\n",
       "47451    319       3    144  976422042\n",
       "47589    319       3   2759  976422042\n",
       "47547    319       4   2671  976422042\n",
       "\n",
       "[150031 rows x 4 columns]"
      ],
      "text/html": "<div>\n<style scoped>\n    .dataframe tbody tr th:only-of-type {\n        vertical-align: middle;\n    }\n\n    .dataframe tbody tr th {\n        vertical-align: top;\n    }\n\n    .dataframe thead th {\n        text-align: right;\n    }\n</style>\n<table border=\"1\" class=\"dataframe\">\n  <thead>\n    <tr style=\"text-align: right;\">\n      <th></th>\n      <th>user</th>\n      <th>rating</th>\n      <th>movie</th>\n      <th>timestamp</th>\n    </tr>\n  </thead>\n  <tbody>\n    <tr>\n      <th>187235</th>\n      <td>1162</td>\n      <td>3</td>\n      <td>919</td>\n      <td>974862386</td>\n    </tr>\n    <tr>\n      <th>187266</th>\n      <td>1162</td>\n      <td>4</td>\n      <td>3435</td>\n      <td>974862386</td>\n    </tr>\n    <tr>\n      <th>187367</th>\n      <td>1163</td>\n      <td>4</td>\n      <td>748</td>\n      <td>974862390</td>\n    </tr>\n    <tr>\n      <th>187370</th>\n      <td>1163</td>\n      <td>4</td>\n      <td>1604</td>\n      <td>974862390</td>\n    </tr>\n    <tr>\n      <th>187418</th>\n      <td>1163</td>\n      <td>3</td>\n      <td>1792</td>\n      <td>974862390</td>\n    </tr>\n    <tr>\n      <th>...</th>\n      <td>...</td>\n      <td>...</td>\n      <td>...</td>\n      <td>...</td>\n    </tr>\n    <tr>\n      <th>48463</th>\n      <td>326</td>\n      <td>3</td>\n      <td>3152</td>\n      <td>976422034</td>\n    </tr>\n    <tr>\n      <th>48535</th>\n      <td>326</td>\n      <td>4</td>\n      <td>2716</td>\n      <td>976422034</td>\n    </tr>\n    <tr>\n      <th>47451</th>\n      <td>319</td>\n      <td>3</td>\n      <td>144</td>\n      <td>976422042</td>\n    </tr>\n    <tr>\n      <th>47589</th>\n      <td>319</td>\n      <td>3</td>\n      <td>2759</td>\n      <td>976422042</td>\n    </tr>\n    <tr>\n      <th>47547</th>\n      <td>319</td>\n      <td>4</td>\n      <td>2671</td>\n      <td>976422042</td>\n    </tr>\n  </tbody>\n</table>\n<p>150031 rows × 4 columns</p>\n</div>"
     },
     "metadata": {},
     "execution_count": 46
    }
   ],
   "source": [
    "val_data"
   ]
  },
  {
   "cell_type": "code",
   "execution_count": 47,
   "metadata": {},
   "outputs": [
    {
     "output_type": "execute_result",
     "data": {
      "text/plain": [
       "        user  rating  movie   timestamp\n",
       "48360    326       2   1263   976422054\n",
       "48364    326       3   1193   976422054\n",
       "48562    326       4   3471   976422083\n",
       "323447  1917       4   1200   976422083\n",
       "48473    326       4    953   976422083\n",
       "...      ...     ...    ...         ...\n",
       "825793  4958       1   2399  1046454338\n",
       "825438  4958       5   1407  1046454443\n",
       "825731  4958       3   2634  1046454548\n",
       "825724  4958       4   3264  1046454548\n",
       "825603  4958       4   1924  1046454590\n",
       "\n",
       "[150032 rows x 4 columns]"
      ],
      "text/html": "<div>\n<style scoped>\n    .dataframe tbody tr th:only-of-type {\n        vertical-align: middle;\n    }\n\n    .dataframe tbody tr th {\n        vertical-align: top;\n    }\n\n    .dataframe thead th {\n        text-align: right;\n    }\n</style>\n<table border=\"1\" class=\"dataframe\">\n  <thead>\n    <tr style=\"text-align: right;\">\n      <th></th>\n      <th>user</th>\n      <th>rating</th>\n      <th>movie</th>\n      <th>timestamp</th>\n    </tr>\n  </thead>\n  <tbody>\n    <tr>\n      <th>48360</th>\n      <td>326</td>\n      <td>2</td>\n      <td>1263</td>\n      <td>976422054</td>\n    </tr>\n    <tr>\n      <th>48364</th>\n      <td>326</td>\n      <td>3</td>\n      <td>1193</td>\n      <td>976422054</td>\n    </tr>\n    <tr>\n      <th>48562</th>\n      <td>326</td>\n      <td>4</td>\n      <td>3471</td>\n      <td>976422083</td>\n    </tr>\n    <tr>\n      <th>323447</th>\n      <td>1917</td>\n      <td>4</td>\n      <td>1200</td>\n      <td>976422083</td>\n    </tr>\n    <tr>\n      <th>48473</th>\n      <td>326</td>\n      <td>4</td>\n      <td>953</td>\n      <td>976422083</td>\n    </tr>\n    <tr>\n      <th>...</th>\n      <td>...</td>\n      <td>...</td>\n      <td>...</td>\n      <td>...</td>\n    </tr>\n    <tr>\n      <th>825793</th>\n      <td>4958</td>\n      <td>1</td>\n      <td>2399</td>\n      <td>1046454338</td>\n    </tr>\n    <tr>\n      <th>825438</th>\n      <td>4958</td>\n      <td>5</td>\n      <td>1407</td>\n      <td>1046454443</td>\n    </tr>\n    <tr>\n      <th>825731</th>\n      <td>4958</td>\n      <td>3</td>\n      <td>2634</td>\n      <td>1046454548</td>\n    </tr>\n    <tr>\n      <th>825724</th>\n      <td>4958</td>\n      <td>4</td>\n      <td>3264</td>\n      <td>1046454548</td>\n    </tr>\n    <tr>\n      <th>825603</th>\n      <td>4958</td>\n      <td>4</td>\n      <td>1924</td>\n      <td>1046454590</td>\n    </tr>\n  </tbody>\n</table>\n<p>150032 rows × 4 columns</p>\n</div>"
     },
     "metadata": {},
     "execution_count": 47
    }
   ],
   "source": [
    "test_data"
   ]
  },
  {
   "cell_type": "code",
   "execution_count": 49,
   "metadata": {},
   "outputs": [],
   "source": [
    "df.to_csv('../data/ml-1m/ratings.txt', sep='\\t', index=False, header=False)\n",
    "train_data.to_csv('../data/ml-1m/train.txt', sep='\\t', index=False, header=False)\n",
    "val_data.to_csv('../data/ml-1m/valid.txt', sep='\\t', index=False, header=False)\n",
    "test_data.to_csv('../data/ml-1m/test.txt', sep='\\t', index=False, header=False)"
   ]
  },
  {
   "cell_type": "code",
   "execution_count": null,
   "metadata": {},
   "outputs": [],
   "source": []
  }
 ]
}